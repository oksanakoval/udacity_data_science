{
 "cells": [
  {
   "cell_type": "markdown",
   "id": "41f155db",
   "metadata": {},
   "source": [
    "# Analysis of open source contributors and impact of open source contribution on hiring and career satisfaction"
   ]
  },
  {
   "cell_type": "markdown",
   "id": "7549b442",
   "metadata": {},
   "source": [
    "Link to Blogpost: [How Contribution to Open Source Impacts Hiring and Career satisfaction?](https://medium.com/@oksana.p.koval/how-contribution-to-open-source-impacts-hiring-and-career-satisfaction-78ef38574a19)"
   ]
  },
  {
   "cell_type": "markdown",
   "id": "68ab2d33",
   "metadata": {},
   "source": [
    "# Business Context\n",
    "\n",
    "Contribution to open source seems to be a rather prevalent practice in software development. In the following analysis we would like to assess how prevalen open source across different countries. We also want to check if\n",
    "there is any difference in employment status of contributors to open source. We will also look into the question\n",
    "whether contribution to open source can help land a new job and whether contribution to open source has any\n",
    "impact on career satisfaction and a salary. \n",
    "\n",
    "## The goal of the analysis\n",
    "\n",
    "is to answer the following questions:\n",
    "\n",
    "    1. What share of developers is contributing to open source?\n",
    "    2. What countries contribute to open source the most? Are there any overrepresented countries?\n",
    "    3. What is the employment status of respondents? Are there any groups of employees that are overrepresented?\n",
    "    4. Is contribution to open source important for hiring decision? Is there any bias among those that\n",
    "    contribute to open source\n",
    "    5. How open source contribution impacts salary and career satisfaction?"
   ]
  },
  {
   "cell_type": "markdown",
   "id": "f6067100",
   "metadata": {},
   "source": [
    "# Data Understanding\n",
    "\n",
    "In the analysis we will use the StackOverflow Develop Survey from 2017. Stackoverflow survey is an annual survey about atittitudes, tools, and environments that are shaping the art and practice of software development."
   ]
  },
  {
   "cell_type": "code",
   "execution_count": 273,
   "id": "4fd4942d",
   "metadata": {},
   "outputs": [
    {
     "data": {
      "text/html": [
       "<div>\n",
       "<style scoped>\n",
       "    .dataframe tbody tr th:only-of-type {\n",
       "        vertical-align: middle;\n",
       "    }\n",
       "\n",
       "    .dataframe tbody tr th {\n",
       "        vertical-align: top;\n",
       "    }\n",
       "\n",
       "    .dataframe thead th {\n",
       "        text-align: right;\n",
       "    }\n",
       "</style>\n",
       "<table border=\"1\" class=\"dataframe\">\n",
       "  <thead>\n",
       "    <tr style=\"text-align: right;\">\n",
       "      <th></th>\n",
       "      <th>Respondent</th>\n",
       "      <th>Professional</th>\n",
       "      <th>ProgramHobby</th>\n",
       "      <th>Country</th>\n",
       "      <th>University</th>\n",
       "      <th>EmploymentStatus</th>\n",
       "      <th>FormalEducation</th>\n",
       "      <th>MajorUndergrad</th>\n",
       "      <th>HomeRemote</th>\n",
       "      <th>CompanySize</th>\n",
       "      <th>...</th>\n",
       "      <th>StackOverflowMakeMoney</th>\n",
       "      <th>Gender</th>\n",
       "      <th>HighestEducationParents</th>\n",
       "      <th>Race</th>\n",
       "      <th>SurveyLong</th>\n",
       "      <th>QuestionsInteresting</th>\n",
       "      <th>QuestionsConfusing</th>\n",
       "      <th>InterestedAnswers</th>\n",
       "      <th>Salary</th>\n",
       "      <th>ExpectedSalary</th>\n",
       "    </tr>\n",
       "  </thead>\n",
       "  <tbody>\n",
       "    <tr>\n",
       "      <th>0</th>\n",
       "      <td>1</td>\n",
       "      <td>Student</td>\n",
       "      <td>Yes, both</td>\n",
       "      <td>United States</td>\n",
       "      <td>No</td>\n",
       "      <td>Not employed, and not looking for work</td>\n",
       "      <td>Secondary school</td>\n",
       "      <td>NaN</td>\n",
       "      <td>NaN</td>\n",
       "      <td>NaN</td>\n",
       "      <td>...</td>\n",
       "      <td>Strongly disagree</td>\n",
       "      <td>Male</td>\n",
       "      <td>High school</td>\n",
       "      <td>White or of European descent</td>\n",
       "      <td>Strongly disagree</td>\n",
       "      <td>Strongly agree</td>\n",
       "      <td>Disagree</td>\n",
       "      <td>Strongly agree</td>\n",
       "      <td>NaN</td>\n",
       "      <td>NaN</td>\n",
       "    </tr>\n",
       "    <tr>\n",
       "      <th>1</th>\n",
       "      <td>2</td>\n",
       "      <td>Student</td>\n",
       "      <td>Yes, both</td>\n",
       "      <td>United Kingdom</td>\n",
       "      <td>Yes, full-time</td>\n",
       "      <td>Employed part-time</td>\n",
       "      <td>Some college/university study without earning ...</td>\n",
       "      <td>Computer science or software engineering</td>\n",
       "      <td>More than half, but not all, the time</td>\n",
       "      <td>20 to 99 employees</td>\n",
       "      <td>...</td>\n",
       "      <td>Strongly disagree</td>\n",
       "      <td>Male</td>\n",
       "      <td>A master's degree</td>\n",
       "      <td>White or of European descent</td>\n",
       "      <td>Somewhat agree</td>\n",
       "      <td>Somewhat agree</td>\n",
       "      <td>Disagree</td>\n",
       "      <td>Strongly agree</td>\n",
       "      <td>NaN</td>\n",
       "      <td>37500.0</td>\n",
       "    </tr>\n",
       "    <tr>\n",
       "      <th>2</th>\n",
       "      <td>3</td>\n",
       "      <td>Professional developer</td>\n",
       "      <td>Yes, both</td>\n",
       "      <td>United Kingdom</td>\n",
       "      <td>No</td>\n",
       "      <td>Employed full-time</td>\n",
       "      <td>Bachelor's degree</td>\n",
       "      <td>Computer science or software engineering</td>\n",
       "      <td>Less than half the time, but at least one day ...</td>\n",
       "      <td>10,000 or more employees</td>\n",
       "      <td>...</td>\n",
       "      <td>Disagree</td>\n",
       "      <td>Male</td>\n",
       "      <td>A professional degree</td>\n",
       "      <td>White or of European descent</td>\n",
       "      <td>Somewhat agree</td>\n",
       "      <td>Agree</td>\n",
       "      <td>Disagree</td>\n",
       "      <td>Agree</td>\n",
       "      <td>113750.0</td>\n",
       "      <td>NaN</td>\n",
       "    </tr>\n",
       "    <tr>\n",
       "      <th>3</th>\n",
       "      <td>4</td>\n",
       "      <td>Professional non-developer who sometimes write...</td>\n",
       "      <td>Yes, both</td>\n",
       "      <td>United States</td>\n",
       "      <td>No</td>\n",
       "      <td>Employed full-time</td>\n",
       "      <td>Doctoral degree</td>\n",
       "      <td>A non-computer-focused engineering discipline</td>\n",
       "      <td>Less than half the time, but at least one day ...</td>\n",
       "      <td>10,000 or more employees</td>\n",
       "      <td>...</td>\n",
       "      <td>Disagree</td>\n",
       "      <td>Male</td>\n",
       "      <td>A doctoral degree</td>\n",
       "      <td>White or of European descent</td>\n",
       "      <td>Agree</td>\n",
       "      <td>Agree</td>\n",
       "      <td>Somewhat agree</td>\n",
       "      <td>Strongly agree</td>\n",
       "      <td>NaN</td>\n",
       "      <td>NaN</td>\n",
       "    </tr>\n",
       "    <tr>\n",
       "      <th>4</th>\n",
       "      <td>5</td>\n",
       "      <td>Professional developer</td>\n",
       "      <td>Yes, I program as a hobby</td>\n",
       "      <td>Switzerland</td>\n",
       "      <td>No</td>\n",
       "      <td>Employed full-time</td>\n",
       "      <td>Master's degree</td>\n",
       "      <td>Computer science or software engineering</td>\n",
       "      <td>Never</td>\n",
       "      <td>10 to 19 employees</td>\n",
       "      <td>...</td>\n",
       "      <td>NaN</td>\n",
       "      <td>NaN</td>\n",
       "      <td>NaN</td>\n",
       "      <td>NaN</td>\n",
       "      <td>NaN</td>\n",
       "      <td>NaN</td>\n",
       "      <td>NaN</td>\n",
       "      <td>NaN</td>\n",
       "      <td>NaN</td>\n",
       "      <td>NaN</td>\n",
       "    </tr>\n",
       "  </tbody>\n",
       "</table>\n",
       "<p>5 rows × 154 columns</p>\n",
       "</div>"
      ],
      "text/plain": [
       "   Respondent                                       Professional  \\\n",
       "0           1                                            Student   \n",
       "1           2                                            Student   \n",
       "2           3                             Professional developer   \n",
       "3           4  Professional non-developer who sometimes write...   \n",
       "4           5                             Professional developer   \n",
       "\n",
       "                ProgramHobby         Country      University  \\\n",
       "0                  Yes, both   United States              No   \n",
       "1                  Yes, both  United Kingdom  Yes, full-time   \n",
       "2                  Yes, both  United Kingdom              No   \n",
       "3                  Yes, both   United States              No   \n",
       "4  Yes, I program as a hobby     Switzerland              No   \n",
       "\n",
       "                         EmploymentStatus  \\\n",
       "0  Not employed, and not looking for work   \n",
       "1                      Employed part-time   \n",
       "2                      Employed full-time   \n",
       "3                      Employed full-time   \n",
       "4                      Employed full-time   \n",
       "\n",
       "                                     FormalEducation  \\\n",
       "0                                   Secondary school   \n",
       "1  Some college/university study without earning ...   \n",
       "2                                  Bachelor's degree   \n",
       "3                                    Doctoral degree   \n",
       "4                                    Master's degree   \n",
       "\n",
       "                                  MajorUndergrad  \\\n",
       "0                                            NaN   \n",
       "1       Computer science or software engineering   \n",
       "2       Computer science or software engineering   \n",
       "3  A non-computer-focused engineering discipline   \n",
       "4       Computer science or software engineering   \n",
       "\n",
       "                                          HomeRemote  \\\n",
       "0                                                NaN   \n",
       "1              More than half, but not all, the time   \n",
       "2  Less than half the time, but at least one day ...   \n",
       "3  Less than half the time, but at least one day ...   \n",
       "4                                              Never   \n",
       "\n",
       "                CompanySize  ... StackOverflowMakeMoney Gender  \\\n",
       "0                       NaN  ...      Strongly disagree   Male   \n",
       "1        20 to 99 employees  ...      Strongly disagree   Male   \n",
       "2  10,000 or more employees  ...               Disagree   Male   \n",
       "3  10,000 or more employees  ...               Disagree   Male   \n",
       "4        10 to 19 employees  ...                    NaN    NaN   \n",
       "\n",
       "  HighestEducationParents                          Race         SurveyLong  \\\n",
       "0             High school  White or of European descent  Strongly disagree   \n",
       "1       A master's degree  White or of European descent     Somewhat agree   \n",
       "2   A professional degree  White or of European descent     Somewhat agree   \n",
       "3       A doctoral degree  White or of European descent              Agree   \n",
       "4                     NaN                           NaN                NaN   \n",
       "\n",
       "  QuestionsInteresting QuestionsConfusing InterestedAnswers    Salary  \\\n",
       "0       Strongly agree           Disagree    Strongly agree       NaN   \n",
       "1       Somewhat agree           Disagree    Strongly agree       NaN   \n",
       "2                Agree           Disagree             Agree  113750.0   \n",
       "3                Agree     Somewhat agree    Strongly agree       NaN   \n",
       "4                  NaN                NaN               NaN       NaN   \n",
       "\n",
       "   ExpectedSalary  \n",
       "0             NaN  \n",
       "1         37500.0  \n",
       "2             NaN  \n",
       "3             NaN  \n",
       "4             NaN  \n",
       "\n",
       "[5 rows x 154 columns]"
      ]
     },
     "execution_count": 273,
     "metadata": {},
     "output_type": "execute_result"
    }
   ],
   "source": [
    "# we start by importing necessary libraries for the analysis\n",
    "\n",
    "import numpy as np\n",
    "import pandas as pd\n",
    "import matplotlib.pyplot as plt\n",
    "%matplotlib inline\n",
    "\n",
    "# read initial survey dataset\n",
    "\n",
    "df = pd.read_csv('./survey_results_public.csv')\n",
    "df.head()"
   ]
  },
  {
   "cell_type": "code",
   "execution_count": 274,
   "id": "d62e786d",
   "metadata": {},
   "outputs": [
    {
     "name": "stdout",
     "output_type": "stream",
     "text": [
      "19102 154\n"
     ]
    }
   ],
   "source": [
    "# let's have a brief look at the data\n",
    "num_rows = df.shape[0] # the number of rows in the dataset\n",
    "num_cols = df.shape[1] # the number of columns in the dataset\n",
    "print(num_rows, num_cols)"
   ]
  },
  {
   "cell_type": "markdown",
   "id": "61eb97b9",
   "metadata": {},
   "source": [
    "There are 19102 rows and 154 columns in the dataset in total"
   ]
  },
  {
   "cell_type": "markdown",
   "id": "d637833d",
   "metadata": {},
   "source": [
    "# Diving into the Survey\n",
    "\n",
    "For the stated above questions we will first subset data based on the column ProgramHobby about contribution to open source.\n",
    "\n",
    "The following questions (columns) will be used to answer the previously formulated questions:\n",
    "\n",
    "    1. What share of developers is contributing to open source? - ProgramHobby *\n",
    "    2. What countries contribute to open source the most? Are there any overrepresented countries? - Country *\n",
    "    3. What is the employment status of respondents? Are there any groups of employees that \n",
    "    are overrepresented? - EmploymentStatus *\n",
    "    4. Is contribution to open source important for hiring decision? Is there any bias among those \n",
    "    that contribute to open source? - ImportantHiringOpenSource *\n",
    "    5. How open source contribution impacts salary and career satisfaction? CareerSatisfaction and Salary *\n",
    "\n",
    "\n",
    "* Questions for the columns used in the analysis:\n",
    "    \n",
    "    \n",
    "1. ProgramHobby - Do you program as a hobby or contribute to open source projects?\n",
    "2. Country - In which country do you currently live?\n",
    "3. EmploymentStatus - Which of the following best describes your current employment status?\n",
    "4. ImportantHiringOpenSource - \n",
    "    Congratulations! You've just been put in charge of technical recruiting at Globex, a multinational \n",
    "    high- tech firm. This job comes with a corner office, and you have an experienced staff of recruiters at your \n",
    "    disposal. They want to know what they should prioritize when recruiting software developers.\n",
    "    How important should each of the following be in Globex's hiring process? \n",
    "    Contributions to open source projects\n",
    "5. CareerSatisfaction - Career satisfaction rating\n",
    "6. Salary - What is your current annual base salary, before taxes, and excluding bonuses, grants, or other compensation?"
   ]
  },
  {
   "cell_type": "markdown",
   "id": "2e3700c7",
   "metadata": {},
   "source": [
    "# Data Preparation"
   ]
  },
  {
   "cell_type": "code",
   "execution_count": 275,
   "id": "faaac25f",
   "metadata": {},
   "outputs": [
    {
     "data": {
      "text/html": [
       "<div>\n",
       "<style scoped>\n",
       "    .dataframe tbody tr th:only-of-type {\n",
       "        vertical-align: middle;\n",
       "    }\n",
       "\n",
       "    .dataframe tbody tr th {\n",
       "        vertical-align: top;\n",
       "    }\n",
       "\n",
       "    .dataframe thead th {\n",
       "        text-align: right;\n",
       "    }\n",
       "</style>\n",
       "<table border=\"1\" class=\"dataframe\">\n",
       "  <thead>\n",
       "    <tr style=\"text-align: right;\">\n",
       "      <th></th>\n",
       "      <th>Respondent</th>\n",
       "      <th>ProgramHobby</th>\n",
       "      <th>Country</th>\n",
       "      <th>EmploymentStatus</th>\n",
       "      <th>ImportantHiringOpenSource</th>\n",
       "      <th>CareerSatisfaction</th>\n",
       "      <th>Salary</th>\n",
       "    </tr>\n",
       "  </thead>\n",
       "  <tbody>\n",
       "    <tr>\n",
       "      <th>0</th>\n",
       "      <td>1</td>\n",
       "      <td>Yes, both</td>\n",
       "      <td>United States</td>\n",
       "      <td>Not employed, and not looking for work</td>\n",
       "      <td>Somewhat important</td>\n",
       "      <td>NaN</td>\n",
       "      <td>NaN</td>\n",
       "    </tr>\n",
       "    <tr>\n",
       "      <th>1</th>\n",
       "      <td>2</td>\n",
       "      <td>Yes, both</td>\n",
       "      <td>United Kingdom</td>\n",
       "      <td>Employed part-time</td>\n",
       "      <td>Important</td>\n",
       "      <td>NaN</td>\n",
       "      <td>NaN</td>\n",
       "    </tr>\n",
       "    <tr>\n",
       "      <th>2</th>\n",
       "      <td>3</td>\n",
       "      <td>Yes, both</td>\n",
       "      <td>United Kingdom</td>\n",
       "      <td>Employed full-time</td>\n",
       "      <td>NaN</td>\n",
       "      <td>8.0</td>\n",
       "      <td>113750.0</td>\n",
       "    </tr>\n",
       "    <tr>\n",
       "      <th>3</th>\n",
       "      <td>4</td>\n",
       "      <td>Yes, both</td>\n",
       "      <td>United States</td>\n",
       "      <td>Employed full-time</td>\n",
       "      <td>Very important</td>\n",
       "      <td>6.0</td>\n",
       "      <td>NaN</td>\n",
       "    </tr>\n",
       "    <tr>\n",
       "      <th>4</th>\n",
       "      <td>5</td>\n",
       "      <td>Yes, I program as a hobby</td>\n",
       "      <td>Switzerland</td>\n",
       "      <td>Employed full-time</td>\n",
       "      <td>NaN</td>\n",
       "      <td>6.0</td>\n",
       "      <td>NaN</td>\n",
       "    </tr>\n",
       "    <tr>\n",
       "      <th>...</th>\n",
       "      <td>...</td>\n",
       "      <td>...</td>\n",
       "      <td>...</td>\n",
       "      <td>...</td>\n",
       "      <td>...</td>\n",
       "      <td>...</td>\n",
       "      <td>...</td>\n",
       "    </tr>\n",
       "    <tr>\n",
       "      <th>19097</th>\n",
       "      <td>19098</td>\n",
       "      <td>Yes, I program as a hobby</td>\n",
       "      <td>Canada</td>\n",
       "      <td>Employed full-time</td>\n",
       "      <td>Important</td>\n",
       "      <td>9.0</td>\n",
       "      <td>NaN</td>\n",
       "    </tr>\n",
       "    <tr>\n",
       "      <th>19098</th>\n",
       "      <td>19099</td>\n",
       "      <td>Yes, I program as a hobby</td>\n",
       "      <td>India</td>\n",
       "      <td>Not employed, and not looking for work</td>\n",
       "      <td>NaN</td>\n",
       "      <td>NaN</td>\n",
       "      <td>NaN</td>\n",
       "    </tr>\n",
       "    <tr>\n",
       "      <th>19099</th>\n",
       "      <td>19100</td>\n",
       "      <td>Yes, I program as a hobby</td>\n",
       "      <td>United Kingdom</td>\n",
       "      <td>Independent contractor, freelancer, or self-em...</td>\n",
       "      <td>Not very important</td>\n",
       "      <td>4.0</td>\n",
       "      <td>NaN</td>\n",
       "    </tr>\n",
       "    <tr>\n",
       "      <th>19100</th>\n",
       "      <td>19101</td>\n",
       "      <td>Yes, I program as a hobby</td>\n",
       "      <td>United States</td>\n",
       "      <td>Employed full-time</td>\n",
       "      <td>Somewhat important</td>\n",
       "      <td>8.0</td>\n",
       "      <td>110000.0</td>\n",
       "    </tr>\n",
       "    <tr>\n",
       "      <th>19101</th>\n",
       "      <td>19102</td>\n",
       "      <td>Yes, I program as a hobby</td>\n",
       "      <td>France</td>\n",
       "      <td>Employed full-time</td>\n",
       "      <td>NaN</td>\n",
       "      <td>8.0</td>\n",
       "      <td>NaN</td>\n",
       "    </tr>\n",
       "  </tbody>\n",
       "</table>\n",
       "<p>19102 rows × 7 columns</p>\n",
       "</div>"
      ],
      "text/plain": [
       "       Respondent               ProgramHobby         Country  \\\n",
       "0               1                  Yes, both   United States   \n",
       "1               2                  Yes, both  United Kingdom   \n",
       "2               3                  Yes, both  United Kingdom   \n",
       "3               4                  Yes, both   United States   \n",
       "4               5  Yes, I program as a hobby     Switzerland   \n",
       "...           ...                        ...             ...   \n",
       "19097       19098  Yes, I program as a hobby          Canada   \n",
       "19098       19099  Yes, I program as a hobby           India   \n",
       "19099       19100  Yes, I program as a hobby  United Kingdom   \n",
       "19100       19101  Yes, I program as a hobby   United States   \n",
       "19101       19102  Yes, I program as a hobby          France   \n",
       "\n",
       "                                        EmploymentStatus  \\\n",
       "0                 Not employed, and not looking for work   \n",
       "1                                     Employed part-time   \n",
       "2                                     Employed full-time   \n",
       "3                                     Employed full-time   \n",
       "4                                     Employed full-time   \n",
       "...                                                  ...   \n",
       "19097                                 Employed full-time   \n",
       "19098             Not employed, and not looking for work   \n",
       "19099  Independent contractor, freelancer, or self-em...   \n",
       "19100                                 Employed full-time   \n",
       "19101                                 Employed full-time   \n",
       "\n",
       "      ImportantHiringOpenSource  CareerSatisfaction    Salary  \n",
       "0            Somewhat important                 NaN       NaN  \n",
       "1                     Important                 NaN       NaN  \n",
       "2                           NaN                 8.0  113750.0  \n",
       "3                Very important                 6.0       NaN  \n",
       "4                           NaN                 6.0       NaN  \n",
       "...                         ...                 ...       ...  \n",
       "19097                 Important                 9.0       NaN  \n",
       "19098                       NaN                 NaN       NaN  \n",
       "19099        Not very important                 4.0       NaN  \n",
       "19100        Somewhat important                 8.0  110000.0  \n",
       "19101                       NaN                 8.0       NaN  \n",
       "\n",
       "[19102 rows x 7 columns]"
      ]
     },
     "execution_count": 275,
     "metadata": {},
     "output_type": "execute_result"
    }
   ],
   "source": [
    "# subset only required columns for the analysis\n",
    "columns = ['Respondent', 'ProgramHobby', 'Country', 'EmploymentStatus','ImportantHiringOpenSource', 'CareerSatisfaction', 'Salary']\n",
    "df = df[columns]\n",
    "df"
   ]
  },
  {
   "cell_type": "code",
   "execution_count": 276,
   "id": "114b5c70",
   "metadata": {},
   "outputs": [
    {
     "data": {
      "text/plain": [
       "Respondent                     int64\n",
       "ProgramHobby                  object\n",
       "Country                       object\n",
       "EmploymentStatus              object\n",
       "ImportantHiringOpenSource     object\n",
       "CareerSatisfaction           float64\n",
       "Salary                       float64\n",
       "dtype: object"
      ]
     },
     "execution_count": 276,
     "metadata": {},
     "output_type": "execute_result"
    }
   ],
   "source": [
    "# check types of columns\n",
    "df.dtypes"
   ]
  },
  {
   "cell_type": "markdown",
   "id": "87e681ed",
   "metadata": {},
   "source": [
    "# Handling missing data"
   ]
  },
  {
   "cell_type": "code",
   "execution_count": 277,
   "id": "c438041b",
   "metadata": {
    "scrolled": true
   },
   "outputs": [
    {
     "data": {
      "text/plain": [
       "Respondent                   0.000000\n",
       "ProgramHobby                 0.000000\n",
       "Country                      0.000000\n",
       "EmploymentStatus             0.000000\n",
       "ImportantHiringOpenSource    0.431264\n",
       "CareerSatisfaction           0.157052\n",
       "Salary                       0.737776\n",
       "dtype: float64"
      ]
     },
     "execution_count": 277,
     "metadata": {},
     "output_type": "execute_result"
    }
   ],
   "source": [
    "#checking for missing values\n",
    "df.isnull().mean()"
   ]
  },
  {
   "cell_type": "markdown",
   "id": "cbe29676",
   "metadata": {},
   "source": [
    "There are no missing values in the columns Respondent, ProgramHobby, Country and EmploymentStatus. Data from these columns can be analyzed without handling of missing data. For the columns ImportantHiringOpenSource, CareerSatisfaction and Salary there has to be a handling of missing data"
   ]
  },
  {
   "cell_type": "markdown",
   "id": "8af3b8dc",
   "metadata": {},
   "source": [
    "## Handling missing data for ImportantHiringOpenSource"
   ]
  },
  {
   "cell_type": "code",
   "execution_count": 278,
   "id": "ee294216",
   "metadata": {},
   "outputs": [
    {
     "data": {
      "text/plain": [
       "array(['Somewhat important', 'Important', nan, 'Very important',\n",
       "       'Not at all important', 'Not very important'], dtype=object)"
      ]
     },
     "execution_count": 278,
     "metadata": {},
     "output_type": "execute_result"
    }
   ],
   "source": [
    "# print unique value for the columns to get a quick overview\n",
    "df.ImportantHiringOpenSource.unique()"
   ]
  },
  {
   "cell_type": "code",
   "execution_count": 279,
   "id": "0ed85bc6",
   "metadata": {},
   "outputs": [
    {
     "data": {
      "text/plain": [
       "Somewhat important      4075\n",
       "Not very important      3352\n",
       "Important               1989\n",
       "Not at all important     950\n",
       "Very important           498\n",
       "Name: ImportantHiringOpenSource, dtype: int64"
      ]
     },
     "execution_count": 279,
     "metadata": {},
     "output_type": "execute_result"
    }
   ],
   "source": [
    "#let's get most frequent value for column ImportantHiringOpenSource\n",
    "df.ImportantHiringOpenSource.value_counts()"
   ]
  },
  {
   "cell_type": "markdown",
   "id": "048002b3",
   "metadata": {},
   "source": [
    "We could replace missing values with the most frequent response - somewhat important but this will introduce a certain bias in the data. In this case we would use a more simple method and replace NaN Values with \"No response\""
   ]
  },
  {
   "cell_type": "code",
   "execution_count": 280,
   "id": "b1a24ad8",
   "metadata": {},
   "outputs": [
    {
     "data": {
      "text/html": [
       "<div>\n",
       "<style scoped>\n",
       "    .dataframe tbody tr th:only-of-type {\n",
       "        vertical-align: middle;\n",
       "    }\n",
       "\n",
       "    .dataframe tbody tr th {\n",
       "        vertical-align: top;\n",
       "    }\n",
       "\n",
       "    .dataframe thead th {\n",
       "        text-align: right;\n",
       "    }\n",
       "</style>\n",
       "<table border=\"1\" class=\"dataframe\">\n",
       "  <thead>\n",
       "    <tr style=\"text-align: right;\">\n",
       "      <th></th>\n",
       "      <th>Respondent</th>\n",
       "      <th>ProgramHobby</th>\n",
       "      <th>Country</th>\n",
       "      <th>EmploymentStatus</th>\n",
       "      <th>ImportantHiringOpenSource</th>\n",
       "      <th>CareerSatisfaction</th>\n",
       "      <th>Salary</th>\n",
       "    </tr>\n",
       "  </thead>\n",
       "  <tbody>\n",
       "    <tr>\n",
       "      <th>0</th>\n",
       "      <td>1</td>\n",
       "      <td>Yes, both</td>\n",
       "      <td>United States</td>\n",
       "      <td>Not employed, and not looking for work</td>\n",
       "      <td>Somewhat important</td>\n",
       "      <td>NaN</td>\n",
       "      <td>NaN</td>\n",
       "    </tr>\n",
       "    <tr>\n",
       "      <th>1</th>\n",
       "      <td>2</td>\n",
       "      <td>Yes, both</td>\n",
       "      <td>United Kingdom</td>\n",
       "      <td>Employed part-time</td>\n",
       "      <td>Important</td>\n",
       "      <td>NaN</td>\n",
       "      <td>NaN</td>\n",
       "    </tr>\n",
       "    <tr>\n",
       "      <th>2</th>\n",
       "      <td>3</td>\n",
       "      <td>Yes, both</td>\n",
       "      <td>United Kingdom</td>\n",
       "      <td>Employed full-time</td>\n",
       "      <td>No response</td>\n",
       "      <td>8.0</td>\n",
       "      <td>113750.0</td>\n",
       "    </tr>\n",
       "    <tr>\n",
       "      <th>3</th>\n",
       "      <td>4</td>\n",
       "      <td>Yes, both</td>\n",
       "      <td>United States</td>\n",
       "      <td>Employed full-time</td>\n",
       "      <td>Very important</td>\n",
       "      <td>6.0</td>\n",
       "      <td>NaN</td>\n",
       "    </tr>\n",
       "    <tr>\n",
       "      <th>4</th>\n",
       "      <td>5</td>\n",
       "      <td>Yes, I program as a hobby</td>\n",
       "      <td>Switzerland</td>\n",
       "      <td>Employed full-time</td>\n",
       "      <td>No response</td>\n",
       "      <td>6.0</td>\n",
       "      <td>NaN</td>\n",
       "    </tr>\n",
       "  </tbody>\n",
       "</table>\n",
       "</div>"
      ],
      "text/plain": [
       "   Respondent               ProgramHobby         Country  \\\n",
       "0           1                  Yes, both   United States   \n",
       "1           2                  Yes, both  United Kingdom   \n",
       "2           3                  Yes, both  United Kingdom   \n",
       "3           4                  Yes, both   United States   \n",
       "4           5  Yes, I program as a hobby     Switzerland   \n",
       "\n",
       "                         EmploymentStatus ImportantHiringOpenSource  \\\n",
       "0  Not employed, and not looking for work        Somewhat important   \n",
       "1                      Employed part-time                 Important   \n",
       "2                      Employed full-time               No response   \n",
       "3                      Employed full-time            Very important   \n",
       "4                      Employed full-time               No response   \n",
       "\n",
       "   CareerSatisfaction    Salary  \n",
       "0                 NaN       NaN  \n",
       "1                 NaN       NaN  \n",
       "2                 8.0  113750.0  \n",
       "3                 6.0       NaN  \n",
       "4                 6.0       NaN  "
      ]
     },
     "execution_count": 280,
     "metadata": {},
     "output_type": "execute_result"
    }
   ],
   "source": [
    "#replace NaNs in ImportantHiringOpenSource column with the \"No Response\" value \n",
    "df['ImportantHiringOpenSource'] = df['ImportantHiringOpenSource'].fillna(\"No response\")\n",
    "\n",
    "df.head()"
   ]
  },
  {
   "cell_type": "markdown",
   "id": "fbb66d78",
   "metadata": {},
   "source": [
    "## Handling missing data for Salary"
   ]
  },
  {
   "cell_type": "code",
   "execution_count": 281,
   "id": "810ccb09",
   "metadata": {},
   "outputs": [
    {
     "data": {
      "text/plain": [
       "0          NaN\n",
       "1          NaN\n",
       "2     113750.0\n",
       "3          NaN\n",
       "4          NaN\n",
       "5          NaN\n",
       "6          NaN\n",
       "7          NaN\n",
       "8          NaN\n",
       "9          NaN\n",
       "10         NaN\n",
       "11         NaN\n",
       "12         NaN\n",
       "13         NaN\n",
       "14    100000.0\n",
       "15         NaN\n",
       "16         NaN\n",
       "17    130000.0\n",
       "18     82500.0\n",
       "19         NaN\n",
       "Name: Salary, dtype: float64"
      ]
     },
     "execution_count": 281,
     "metadata": {},
     "output_type": "execute_result"
    }
   ],
   "source": [
    "# let's get a quick overview of the values in column salary\n",
    "df.Salary[:20]"
   ]
  },
  {
   "cell_type": "markdown",
   "id": "e334aeae",
   "metadata": {},
   "source": [
    "Since salaries column has a wide range of values and quite a lot of missing values, we would replace NaN values with the mean of the column"
   ]
  },
  {
   "cell_type": "code",
   "execution_count": 282,
   "id": "dfda2753",
   "metadata": {},
   "outputs": [
    {
     "data": {
      "text/plain": [
       "58341.39857056908"
      ]
     },
     "execution_count": 282,
     "metadata": {},
     "output_type": "execute_result"
    }
   ],
   "source": [
    "# calculate mean for salary\n",
    "df['Salary'].mean()"
   ]
  },
  {
   "cell_type": "markdown",
   "id": "6d4ea080",
   "metadata": {},
   "source": [
    "Mean value is 58341.39. We will use this information later to check if the mean value function works properly"
   ]
  },
  {
   "cell_type": "code",
   "execution_count": 283,
   "id": "d4b9d109",
   "metadata": {},
   "outputs": [],
   "source": [
    "# mean function\n",
    "fill_mean = lambda col: col.fillna(col.mean())"
   ]
  },
  {
   "cell_type": "code",
   "execution_count": 284,
   "id": "410fe8f4",
   "metadata": {},
   "outputs": [
    {
     "data": {
      "text/html": [
       "<div>\n",
       "<style scoped>\n",
       "    .dataframe tbody tr th:only-of-type {\n",
       "        vertical-align: middle;\n",
       "    }\n",
       "\n",
       "    .dataframe tbody tr th {\n",
       "        vertical-align: top;\n",
       "    }\n",
       "\n",
       "    .dataframe thead th {\n",
       "        text-align: right;\n",
       "    }\n",
       "</style>\n",
       "<table border=\"1\" class=\"dataframe\">\n",
       "  <thead>\n",
       "    <tr style=\"text-align: right;\">\n",
       "      <th></th>\n",
       "      <th>Respondent</th>\n",
       "      <th>ProgramHobby</th>\n",
       "      <th>Country</th>\n",
       "      <th>EmploymentStatus</th>\n",
       "      <th>ImportantHiringOpenSource</th>\n",
       "      <th>CareerSatisfaction</th>\n",
       "      <th>Salary</th>\n",
       "    </tr>\n",
       "  </thead>\n",
       "  <tbody>\n",
       "    <tr>\n",
       "      <th>0</th>\n",
       "      <td>1</td>\n",
       "      <td>Yes, both</td>\n",
       "      <td>United States</td>\n",
       "      <td>Not employed, and not looking for work</td>\n",
       "      <td>Somewhat important</td>\n",
       "      <td>NaN</td>\n",
       "      <td>58341.398571</td>\n",
       "    </tr>\n",
       "    <tr>\n",
       "      <th>1</th>\n",
       "      <td>2</td>\n",
       "      <td>Yes, both</td>\n",
       "      <td>United Kingdom</td>\n",
       "      <td>Employed part-time</td>\n",
       "      <td>Important</td>\n",
       "      <td>NaN</td>\n",
       "      <td>58341.398571</td>\n",
       "    </tr>\n",
       "    <tr>\n",
       "      <th>2</th>\n",
       "      <td>3</td>\n",
       "      <td>Yes, both</td>\n",
       "      <td>United Kingdom</td>\n",
       "      <td>Employed full-time</td>\n",
       "      <td>No response</td>\n",
       "      <td>8.0</td>\n",
       "      <td>113750.000000</td>\n",
       "    </tr>\n",
       "    <tr>\n",
       "      <th>3</th>\n",
       "      <td>4</td>\n",
       "      <td>Yes, both</td>\n",
       "      <td>United States</td>\n",
       "      <td>Employed full-time</td>\n",
       "      <td>Very important</td>\n",
       "      <td>6.0</td>\n",
       "      <td>58341.398571</td>\n",
       "    </tr>\n",
       "    <tr>\n",
       "      <th>4</th>\n",
       "      <td>5</td>\n",
       "      <td>Yes, I program as a hobby</td>\n",
       "      <td>Switzerland</td>\n",
       "      <td>Employed full-time</td>\n",
       "      <td>No response</td>\n",
       "      <td>6.0</td>\n",
       "      <td>58341.398571</td>\n",
       "    </tr>\n",
       "  </tbody>\n",
       "</table>\n",
       "</div>"
      ],
      "text/plain": [
       "   Respondent               ProgramHobby         Country  \\\n",
       "0           1                  Yes, both   United States   \n",
       "1           2                  Yes, both  United Kingdom   \n",
       "2           3                  Yes, both  United Kingdom   \n",
       "3           4                  Yes, both   United States   \n",
       "4           5  Yes, I program as a hobby     Switzerland   \n",
       "\n",
       "                         EmploymentStatus ImportantHiringOpenSource  \\\n",
       "0  Not employed, and not looking for work        Somewhat important   \n",
       "1                      Employed part-time                 Important   \n",
       "2                      Employed full-time               No response   \n",
       "3                      Employed full-time            Very important   \n",
       "4                      Employed full-time               No response   \n",
       "\n",
       "   CareerSatisfaction         Salary  \n",
       "0                 NaN   58341.398571  \n",
       "1                 NaN   58341.398571  \n",
       "2                 8.0  113750.000000  \n",
       "3                 6.0   58341.398571  \n",
       "4                 6.0   58341.398571  "
      ]
     },
     "execution_count": 284,
     "metadata": {},
     "output_type": "execute_result"
    }
   ],
   "source": [
    "# replace NaN values with mean for salary\n",
    "df[['Salary']] = df[['Salary']].apply(fill_mean, axis=0)\n",
    "\n",
    "df.head()"
   ]
  },
  {
   "cell_type": "markdown",
   "id": "0b125a25",
   "metadata": {},
   "source": [
    "Mean function works properly"
   ]
  },
  {
   "cell_type": "markdown",
   "id": "78e81cba",
   "metadata": {},
   "source": [
    "## Handling missing values for CareerSatisfaction"
   ]
  },
  {
   "cell_type": "code",
   "execution_count": 285,
   "id": "ec6e1c40",
   "metadata": {},
   "outputs": [
    {
     "data": {
      "text/plain": [
       "array([nan,  8.,  6.,  7.,  3.,  9.,  5., 10.,  4.,  0.,  2.,  1.])"
      ]
     },
     "execution_count": 285,
     "metadata": {},
     "output_type": "execute_result"
    }
   ],
   "source": [
    "df['CareerSatisfaction'].unique()"
   ]
  },
  {
   "cell_type": "markdown",
   "id": "5ed0d67a",
   "metadata": {},
   "source": [
    "Based on the unique value we can conclude that career satisfaction was measured on the scale from 0 to 10 and all value are whole numbers. In this case we will use mode to handle missing values"
   ]
  },
  {
   "cell_type": "code",
   "execution_count": 286,
   "id": "ad74216d",
   "metadata": {},
   "outputs": [
    {
     "data": {
      "text/plain": [
       "0    8.0\n",
       "Name: CareerSatisfaction, dtype: float64"
      ]
     },
     "execution_count": 286,
     "metadata": {},
     "output_type": "execute_result"
    }
   ],
   "source": [
    "# calculate mode\n",
    "df['CareerSatisfaction'].mode(dropna=False)"
   ]
  },
  {
   "cell_type": "markdown",
   "id": "59b8245c",
   "metadata": {},
   "source": [
    "Mode for the column CareerSatisfaction is 8"
   ]
  },
  {
   "cell_type": "code",
   "execution_count": 287,
   "id": "d32c6f8a",
   "metadata": {},
   "outputs": [],
   "source": [
    "# mode function\n",
    "fill_mode = lambda col: col.fillna(col.mode()[0])"
   ]
  },
  {
   "cell_type": "code",
   "execution_count": 288,
   "id": "d8ce5944",
   "metadata": {},
   "outputs": [
    {
     "data": {
      "text/html": [
       "<div>\n",
       "<style scoped>\n",
       "    .dataframe tbody tr th:only-of-type {\n",
       "        vertical-align: middle;\n",
       "    }\n",
       "\n",
       "    .dataframe tbody tr th {\n",
       "        vertical-align: top;\n",
       "    }\n",
       "\n",
       "    .dataframe thead th {\n",
       "        text-align: right;\n",
       "    }\n",
       "</style>\n",
       "<table border=\"1\" class=\"dataframe\">\n",
       "  <thead>\n",
       "    <tr style=\"text-align: right;\">\n",
       "      <th></th>\n",
       "      <th>Respondent</th>\n",
       "      <th>ProgramHobby</th>\n",
       "      <th>Country</th>\n",
       "      <th>EmploymentStatus</th>\n",
       "      <th>ImportantHiringOpenSource</th>\n",
       "      <th>CareerSatisfaction</th>\n",
       "      <th>Salary</th>\n",
       "    </tr>\n",
       "  </thead>\n",
       "  <tbody>\n",
       "    <tr>\n",
       "      <th>0</th>\n",
       "      <td>1</td>\n",
       "      <td>Yes, both</td>\n",
       "      <td>United States</td>\n",
       "      <td>Not employed, and not looking for work</td>\n",
       "      <td>Somewhat important</td>\n",
       "      <td>8.0</td>\n",
       "      <td>58341.398571</td>\n",
       "    </tr>\n",
       "    <tr>\n",
       "      <th>1</th>\n",
       "      <td>2</td>\n",
       "      <td>Yes, both</td>\n",
       "      <td>United Kingdom</td>\n",
       "      <td>Employed part-time</td>\n",
       "      <td>Important</td>\n",
       "      <td>8.0</td>\n",
       "      <td>58341.398571</td>\n",
       "    </tr>\n",
       "    <tr>\n",
       "      <th>2</th>\n",
       "      <td>3</td>\n",
       "      <td>Yes, both</td>\n",
       "      <td>United Kingdom</td>\n",
       "      <td>Employed full-time</td>\n",
       "      <td>No response</td>\n",
       "      <td>8.0</td>\n",
       "      <td>113750.000000</td>\n",
       "    </tr>\n",
       "    <tr>\n",
       "      <th>3</th>\n",
       "      <td>4</td>\n",
       "      <td>Yes, both</td>\n",
       "      <td>United States</td>\n",
       "      <td>Employed full-time</td>\n",
       "      <td>Very important</td>\n",
       "      <td>6.0</td>\n",
       "      <td>58341.398571</td>\n",
       "    </tr>\n",
       "    <tr>\n",
       "      <th>4</th>\n",
       "      <td>5</td>\n",
       "      <td>Yes, I program as a hobby</td>\n",
       "      <td>Switzerland</td>\n",
       "      <td>Employed full-time</td>\n",
       "      <td>No response</td>\n",
       "      <td>6.0</td>\n",
       "      <td>58341.398571</td>\n",
       "    </tr>\n",
       "  </tbody>\n",
       "</table>\n",
       "</div>"
      ],
      "text/plain": [
       "   Respondent               ProgramHobby         Country  \\\n",
       "0           1                  Yes, both   United States   \n",
       "1           2                  Yes, both  United Kingdom   \n",
       "2           3                  Yes, both  United Kingdom   \n",
       "3           4                  Yes, both   United States   \n",
       "4           5  Yes, I program as a hobby     Switzerland   \n",
       "\n",
       "                         EmploymentStatus ImportantHiringOpenSource  \\\n",
       "0  Not employed, and not looking for work        Somewhat important   \n",
       "1                      Employed part-time                 Important   \n",
       "2                      Employed full-time               No response   \n",
       "3                      Employed full-time            Very important   \n",
       "4                      Employed full-time               No response   \n",
       "\n",
       "   CareerSatisfaction         Salary  \n",
       "0                 8.0   58341.398571  \n",
       "1                 8.0   58341.398571  \n",
       "2                 8.0  113750.000000  \n",
       "3                 6.0   58341.398571  \n",
       "4                 6.0   58341.398571  "
      ]
     },
     "execution_count": 288,
     "metadata": {},
     "output_type": "execute_result"
    }
   ],
   "source": [
    "# replace NaN values with mode for career satisfaction\n",
    "df[['CareerSatisfaction']] = df[['CareerSatisfaction']].apply(fill_mode, axis=0)\n",
    "\n",
    "df.head()"
   ]
  },
  {
   "cell_type": "markdown",
   "id": "13b4b40e",
   "metadata": {},
   "source": [
    "The function for mode value also works properly. "
   ]
  },
  {
   "cell_type": "markdown",
   "id": "3a32d0cd",
   "metadata": {},
   "source": [
    "## Creating dataframes for open source and not open source respondents"
   ]
  },
  {
   "cell_type": "code",
   "execution_count": 289,
   "id": "7c0c2842",
   "metadata": {},
   "outputs": [
    {
     "name": "stdout",
     "output_type": "stream",
     "text": [
      "['Yes, both' 'Yes, I program as a hobby' 'No'\n",
      " 'Yes, I contribute to open source projects']\n"
     ]
    }
   ],
   "source": [
    "# get unique values in column ProgramHobby\n",
    "print(df.ProgramHobby.unique())"
   ]
  },
  {
   "cell_type": "markdown",
   "id": "b18880c7",
   "metadata": {},
   "source": [
    "Output values 'Yes, both' 'Yes, I program as a hobby' 'No'\n",
    " 'Yes, I contribute to open source projects'\n"
   ]
  },
  {
   "cell_type": "code",
   "execution_count": 290,
   "id": "ccae48a4",
   "metadata": {},
   "outputs": [
    {
     "data": {
      "text/plain": [
       "0    1\n",
       "1    1\n",
       "2    1\n",
       "3    1\n",
       "4    0\n",
       "Name: ProgramHobby, dtype: int64"
      ]
     },
     "execution_count": 290,
     "metadata": {},
     "output_type": "execute_result"
    }
   ],
   "source": [
    "# create a function to subset contributors to open source and those that do not subset to open source\n",
    "\n",
    "def open_source(program_hobby_str):\n",
    "    '''\n",
    "    INPUT\n",
    "        program_hobby_str - a string of one of the values from the Program Hobby column\n",
    "    \n",
    "    OUTPUT\n",
    "        return 1 if the string is  in ('Yes, I contribute to open source projects', 'Yes, both')\n",
    "        return 0 otherwise\n",
    "    \n",
    "    '''\n",
    "    if program_hobby_str in (\"Yes, I contribute to open source projects\", \"Yes, both\"):\n",
    "        return 1\n",
    "    else:\n",
    "        return 0\n",
    "    \n",
    "\n",
    "df['ProgramHobby'].apply(open_source)[:5]"
   ]
  },
  {
   "cell_type": "code",
   "execution_count": 291,
   "id": "3f026808",
   "metadata": {},
   "outputs": [
    {
     "data": {
      "text/html": [
       "<div>\n",
       "<style scoped>\n",
       "    .dataframe tbody tr th:only-of-type {\n",
       "        vertical-align: middle;\n",
       "    }\n",
       "\n",
       "    .dataframe tbody tr th {\n",
       "        vertical-align: top;\n",
       "    }\n",
       "\n",
       "    .dataframe thead th {\n",
       "        text-align: right;\n",
       "    }\n",
       "</style>\n",
       "<table border=\"1\" class=\"dataframe\">\n",
       "  <thead>\n",
       "    <tr style=\"text-align: right;\">\n",
       "      <th></th>\n",
       "      <th>Respondent</th>\n",
       "      <th>ProgramHobby</th>\n",
       "      <th>Country</th>\n",
       "      <th>EmploymentStatus</th>\n",
       "      <th>ImportantHiringOpenSource</th>\n",
       "      <th>CareerSatisfaction</th>\n",
       "      <th>Salary</th>\n",
       "    </tr>\n",
       "  </thead>\n",
       "  <tbody>\n",
       "    <tr>\n",
       "      <th>0</th>\n",
       "      <td>1</td>\n",
       "      <td>1</td>\n",
       "      <td>United States</td>\n",
       "      <td>Not employed, and not looking for work</td>\n",
       "      <td>Somewhat important</td>\n",
       "      <td>8.0</td>\n",
       "      <td>58341.398571</td>\n",
       "    </tr>\n",
       "    <tr>\n",
       "      <th>1</th>\n",
       "      <td>2</td>\n",
       "      <td>1</td>\n",
       "      <td>United Kingdom</td>\n",
       "      <td>Employed part-time</td>\n",
       "      <td>Important</td>\n",
       "      <td>8.0</td>\n",
       "      <td>58341.398571</td>\n",
       "    </tr>\n",
       "    <tr>\n",
       "      <th>2</th>\n",
       "      <td>3</td>\n",
       "      <td>1</td>\n",
       "      <td>United Kingdom</td>\n",
       "      <td>Employed full-time</td>\n",
       "      <td>No response</td>\n",
       "      <td>8.0</td>\n",
       "      <td>113750.000000</td>\n",
       "    </tr>\n",
       "    <tr>\n",
       "      <th>3</th>\n",
       "      <td>4</td>\n",
       "      <td>1</td>\n",
       "      <td>United States</td>\n",
       "      <td>Employed full-time</td>\n",
       "      <td>Very important</td>\n",
       "      <td>6.0</td>\n",
       "      <td>58341.398571</td>\n",
       "    </tr>\n",
       "    <tr>\n",
       "      <th>4</th>\n",
       "      <td>5</td>\n",
       "      <td>0</td>\n",
       "      <td>Switzerland</td>\n",
       "      <td>Employed full-time</td>\n",
       "      <td>No response</td>\n",
       "      <td>6.0</td>\n",
       "      <td>58341.398571</td>\n",
       "    </tr>\n",
       "  </tbody>\n",
       "</table>\n",
       "</div>"
      ],
      "text/plain": [
       "   Respondent  ProgramHobby         Country  \\\n",
       "0           1             1   United States   \n",
       "1           2             1  United Kingdom   \n",
       "2           3             1  United Kingdom   \n",
       "3           4             1   United States   \n",
       "4           5             0     Switzerland   \n",
       "\n",
       "                         EmploymentStatus ImportantHiringOpenSource  \\\n",
       "0  Not employed, and not looking for work        Somewhat important   \n",
       "1                      Employed part-time                 Important   \n",
       "2                      Employed full-time               No response   \n",
       "3                      Employed full-time            Very important   \n",
       "4                      Employed full-time               No response   \n",
       "\n",
       "   CareerSatisfaction         Salary  \n",
       "0                 8.0   58341.398571  \n",
       "1                 8.0   58341.398571  \n",
       "2                 8.0  113750.000000  \n",
       "3                 6.0   58341.398571  \n",
       "4                 6.0   58341.398571  "
      ]
     },
     "execution_count": 291,
     "metadata": {},
     "output_type": "execute_result"
    }
   ],
   "source": [
    "# replace values with 0 and 1\n",
    "df['ProgramHobby'] = df['ProgramHobby'].apply(open_source)\n",
    "df.head()"
   ]
  },
  {
   "cell_type": "code",
   "execution_count": 293,
   "id": "22e81008",
   "metadata": {
    "scrolled": true
   },
   "outputs": [],
   "source": [
    "# create dataframes with the users that contribute to open source and do not contribute to open source\n",
    "\n",
    "df_OpSr = df[df['ProgramHobby'] == 1] #open source contributors\n",
    "df_not_OpSr = df[df['ProgramHobby'] == 0] #not open source contributors\n",
    "# df_OpSr.head()\n",
    "# df_not_OpSr.head()\n"
   ]
  },
  {
   "cell_type": "code",
   "execution_count": 294,
   "id": "646cec74",
   "metadata": {},
   "outputs": [
    {
     "name": "stdout",
     "output_type": "stream",
     "text": [
      "open source dataset (rows): 6181 ; not open source dataset (rows): 12921\n"
     ]
    }
   ],
   "source": [
    "num_rows_OpSr = df_OpSr.shape[0] # the number of rows in the open source dataset\n",
    "num_rows_not_OpSr = df_not_OpSr.shape[0] # the number of columns in the not open source dataset\n",
    "print(\"open source dataset (rows):\", num_rows_OpSr,\";\", \"not open source dataset (rows):\", num_rows_not_OpSr)"
   ]
  },
  {
   "cell_type": "markdown",
   "id": "0969e6cd",
   "metadata": {},
   "source": [
    "There are 6181 rows in open source dataset and 12921 rows in not open source dataset"
   ]
  },
  {
   "cell_type": "markdown",
   "id": "ecfaf372",
   "metadata": {},
   "source": [
    "Now that we have a prepared dataset we can continue with the analysis"
   ]
  },
  {
   "cell_type": "markdown",
   "id": "68e6a626",
   "metadata": {},
   "source": [
    "# Analysis"
   ]
  },
  {
   "cell_type": "markdown",
   "id": "79d58df8",
   "metadata": {},
   "source": [
    "## 1. What share of developers is contributing to open source?"
   ]
  },
  {
   "cell_type": "code",
   "execution_count": 295,
   "id": "1494b014",
   "metadata": {},
   "outputs": [
    {
     "name": "stdout",
     "output_type": "stream",
     "text": [
      "19102 6181 32%\n"
     ]
    }
   ],
   "source": [
    "# share of respondents that contribute to open source \n",
    "num_rows_all = df.shape[0]\n",
    "num_rows_df_OpSr = df_OpSr.shape[0]\n",
    "share_OpSr = f\"{(num_rows_df_OpSr/num_rows_all):.0%}\"\n",
    "print(num_rows_all, num_rows_df_OpSr, share_OpSr)"
   ]
  },
  {
   "cell_type": "markdown",
   "id": "4c2c7f32",
   "metadata": {},
   "source": [
    "Share of users contributing to open source is 32% across all respondents"
   ]
  },
  {
   "cell_type": "markdown",
   "id": "8cb856d9",
   "metadata": {},
   "source": [
    "## 2. What countries contribute to open source the most? Are there any overrepresented countries?"
   ]
  },
  {
   "cell_type": "code",
   "execution_count": 296,
   "id": "f278c04e",
   "metadata": {},
   "outputs": [
    {
     "name": "stdout",
     "output_type": "stream",
     "text": [
      "                    countries: open source  countries: all\n",
      "United States                     0.226986        0.228458\n",
      "India                             0.094321        0.081510\n",
      "Germany                           0.076525        0.069993\n",
      "United Kingdom                    0.065685        0.074547\n",
      "Canada                            0.036725        0.045754\n",
      "Poland                            0.032357        0.036331\n",
      "France                            0.029769        0.027327\n",
      "Netherlands                       0.023944        0.019527\n",
      "Australia                         0.021356        0.020888\n",
      "Russian Federation                0.019253        0.017276\n",
      "Italy                             0.017958        0.015915\n",
      "Israel                            0.017311        0.017694\n",
      "Switzerland                       0.015693        0.012669\n",
      "Spain                             0.015370        0.016333\n",
      "Brazil                            0.014723        0.013559\n"
     ]
    },
    {
     "data": {
      "text/plain": [
       "<AxesSubplot:>"
      ]
     },
     "execution_count": 296,
     "metadata": {},
     "output_type": "execute_result"
    },
    {
     "data": {
      "image/png": "[encoded data removed]",
      "text/plain": [
       "<Figure size 432x288 with 1 Axes>"
      ]
     },
     "metadata": {
      "needs_background": "light"
     },
     "output_type": "display_data"
    }
   ],
   "source": [
    "# share of respondents that contribute to open source per country\n",
    "df_OpSr_country = df_OpSr.Country.value_counts(normalize=True)\n",
    "df_country = df.Country.value_counts(normalize=True)\n",
    "df_country_share = pd.concat([df_OpSr_country, df_country], axis = 1)\n",
    "df_country_share.columns = ['countries: open source', 'countries: all']\n",
    "print(df_country_share.head(15))\n",
    "\n",
    "df_country_share.head(15).plot(kind = \"bar\")"
   ]
  },
  {
   "cell_type": "markdown",
   "id": "a7cf2428",
   "metadata": {},
   "source": [
    "Countries that contribute the most to open source: United States, India, Germany, United Kingdom, Canada\n",
    "Overrepresented countries: India, Germany, France, Netherlands, Australia, Russian Federation, Italy, Israel, Switzerland"
   ]
  },
  {
   "cell_type": "markdown",
   "id": "df5d99e2",
   "metadata": {},
   "source": [
    "## 3. What is the employment status of respondents? Are there any groups of employees that are overrepresented? "
   ]
  },
  {
   "cell_type": "code",
   "execution_count": 297,
   "id": "108e6573",
   "metadata": {},
   "outputs": [
    {
     "data": {
      "image/png": "[encoded data removed]",
      "text/plain": [
       "<Figure size 432x288 with 1 Axes>"
      ]
     },
     "metadata": {
      "needs_background": "light"
     },
     "output_type": "display_data"
    }
   ],
   "source": [
    "#3. Employment status of open source contributors\n",
    "emp_vals_OpSr = df_OpSr.EmploymentStatus.value_counts()\n",
    "\n",
    "(emp_vals_OpSr/df_OpSr.shape[0]).plot(kind=\"bar\");\n",
    "plt.title(\"Employment Status Open Source\");"
   ]
  },
  {
   "cell_type": "markdown",
   "id": "aeab6072",
   "metadata": {},
   "source": [
    "The majority of respondents are employed full time"
   ]
  },
  {
   "cell_type": "code",
   "execution_count": 298,
   "id": "1ef6e091",
   "metadata": {},
   "outputs": [
    {
     "name": "stdout",
     "output_type": "stream",
     "text": [
      "                                                    employment: open source  \\\n",
      "Employed full-time                                                 0.691797   \n",
      "Independent contractor, freelancer, or self-emp...                 0.129429   \n",
      "Employed part-time                                                 0.066979   \n",
      "Not employed, but looking for work                                 0.049183   \n",
      "Not employed, and not looking for work                             0.042712   \n",
      "I prefer not to say                                                0.016664   \n",
      "Retired                                                            0.003236   \n",
      "\n",
      "                                                    employment: all  \n",
      "Employed full-time                                         0.714847  \n",
      "Independent contractor, freelancer, or self-emp...         0.097686  \n",
      "Employed part-time                                         0.061145  \n",
      "Not employed, but looking for work                         0.047430  \n",
      "Not employed, and not looking for work                     0.055806  \n",
      "I prefer not to say                                        0.019946  \n",
      "Retired                                                    0.003141  \n"
     ]
    }
   ],
   "source": [
    "# comparison of employments status for all respondents and theose contributing to open source\n",
    "df_OpSr_emp = df_OpSr.EmploymentStatus.value_counts(normalize=True)\n",
    "df_emp = df.EmploymentStatus.value_counts(normalize=True)\n",
    "df_emp_share = pd.concat([df_OpSr_emp, df_emp], axis = 1)\n",
    "df_emp_share.columns = ['employment: open source', 'employment: all']\n",
    "print(df_emp_share)"
   ]
  },
  {
   "cell_type": "markdown",
   "id": "0f266ff5",
   "metadata": {},
   "source": [
    "Independent contractors, Part-Time Employees and those actively looking for a job are slightly overrepresented in the open source set"
   ]
  },
  {
   "cell_type": "markdown",
   "id": "da04abd9",
   "metadata": {},
   "source": [
    "## 4. Is contribution to open source important for hiring decision? Is there any bias among those that contribute to open source?"
   ]
  },
  {
   "cell_type": "code",
   "execution_count": 299,
   "id": "5131385e",
   "metadata": {},
   "outputs": [
    {
     "data": {
      "image/png": "[encoded data removed]",
      "text/plain": [
       "<Figure size 432x288 with 1 Axes>"
      ]
     },
     "metadata": {
      "needs_background": "light"
     },
     "output_type": "display_data"
    }
   ],
   "source": [
    "#4.How important is Open Source for hiring?\n",
    "hiring_vals = df.ImportantHiringOpenSource.value_counts()\n",
    "\n",
    "(hiring_vals/df.shape[0]).plot(kind=\"bar\");\n",
    "plt.title(\"Importance of Open Source for Hiring\");"
   ]
  },
  {
   "cell_type": "markdown",
   "id": "7a602e3e",
   "metadata": {},
   "source": [
    "The majority of respondents have not provided any response. Based on the provided data looks like the majority of respondents consider open source contribution as somewhat important for hiring decision."
   ]
  },
  {
   "cell_type": "code",
   "execution_count": 300,
   "id": "3578a1f5",
   "metadata": {},
   "outputs": [
    {
     "name": "stdout",
     "output_type": "stream",
     "text": [
      "                      hiring: open source  hiring: not open source\n",
      "No response                      0.414981                 0.439053\n",
      "Somewhat important               0.238796                 0.201145\n",
      "Important                        0.155962                 0.079328\n",
      "Not very important               0.120369                 0.201842\n",
      "Very important                   0.048212                 0.015479\n",
      "Not at all important             0.021679                 0.063153\n"
     ]
    },
    {
     "data": {
      "text/plain": [
       "<AxesSubplot:>"
      ]
     },
     "execution_count": 300,
     "metadata": {},
     "output_type": "execute_result"
    },
    {
     "data": {
      "image/png": "[encoded data removed]",
      "text/plain": [
       "<Figure size 432x288 with 1 Axes>"
      ]
     },
     "metadata": {
      "needs_background": "light"
     },
     "output_type": "display_data"
    }
   ],
   "source": [
    "# Bias: comparing importance of those that contribute and do not contribute\n",
    "df_OpSr_hiring = df_OpSr.ImportantHiringOpenSource.value_counts(normalize=True)\n",
    "df_hiring_not_OpSr = df_not_OpSr.ImportantHiringOpenSource.value_counts(normalize=True)\n",
    "df_hiring_share_OSvsnotOS = pd.concat([df_OpSr_hiring, df_hiring_not_OpSr], axis = 1)\n",
    "df_hiring_share_OSvsnotOS.columns = ['hiring: open source', 'hiring: not open source']\n",
    "print(df_hiring_share_OSvsnotOS)\n",
    "df_hiring_share_OSvsnotOS.plot(kind = \"bar\")"
   ]
  },
  {
   "cell_type": "markdown",
   "id": "a03c22d9",
   "metadata": {},
   "source": [
    "There is definitely a bias to observe. The respondents that contribute to open source view contribution to open source as a much more important factor for hiring than those that do not."
   ]
  },
  {
   "cell_type": "markdown",
   "id": "0b05ee42",
   "metadata": {},
   "source": [
    "## 5. How open source contribution impacts salary and career satisfaction?"
   ]
  },
  {
   "cell_type": "code",
   "execution_count": 301,
   "id": "ffcb4563",
   "metadata": {},
   "outputs": [
    {
     "name": "stdout",
     "output_type": "stream",
     "text": [
      "career satisfaction for open source:  7.6049182980100305 ; career satisfaction for not open source:  7.371410881510719\n"
     ]
    }
   ],
   "source": [
    "#4. How Open Source contribution impacts salary and career satisfaction?\n",
    "\n",
    "# impact of Open Source on Career satisfaction\n",
    "OpSr_carSat = df_OpSr['CareerSatisfaction'].dropna().mean()\n",
    "not_OpSr_carSat = df_not_OpSr['CareerSatisfaction'].dropna().mean()\n",
    "print(\"career satisfaction for open source: \", OpSr_carSat, \";\", \n",
    "      \"career satisfaction for not open source: \", not_OpSr_carSat)\n"
   ]
  },
  {
   "cell_type": "code",
   "execution_count": 302,
   "id": "7c080bbf",
   "metadata": {},
   "outputs": [
    {
     "name": "stdout",
     "output_type": "stream",
     "text": [
      "salary for open source:  59529.44662944826 ; salary for not open source:  57773.07374649271 ; difference:  1756.3728829555548\n"
     ]
    }
   ],
   "source": [
    "# impact of Open Source on salary\n",
    "OpSr_salary = df_OpSr['Salary'].mean()\n",
    "not_OpSr_salary = df_not_OpSr['Salary'].mean()\n",
    "print(\"salary for open source: \", OpSr_salary, \";\", \n",
    "      \"salary for not open source: \", not_OpSr_salary,\";\",\n",
    "      \"difference: \",(OpSr_salary - not_OpSr_salary))"
   ]
  },
  {
   "cell_type": "markdown",
   "id": "90b4d42e",
   "metadata": {},
   "source": [
    "The mean career satisfaction for those that contribute to open source is higher than those that do not contribute to open source (7.61 vs. 7.37 respectively). There is also impact on salary to observe: the salary of those contributing to open source is almost 2 thousands higher when compared to those that do not contribute to open source."
   ]
  },
  {
   "cell_type": "markdown",
   "id": "6379df0f",
   "metadata": {},
   "source": [
    "# Conclusion"
   ]
  },
  {
   "cell_type": "markdown",
   "id": "229e16b6",
   "metadata": {},
   "source": [
    "The focus of study was to analyze where the most open source contributors come from and what is ther employment status. As a next step, we looked into importance of open source contribution for hiring process as well as into possible impact of open source contribution on salary and career satisfaction. It was identified that around one third of all respondents contribute to open source. The majority of the respondents come from the United Stated, India and Germany. The majority of open source contributors work full-time but contribution to open source is more prevalent among part-time employees and contractors. It is important to note that open source contributors are highly biased when it comes to hiring: they view contribution as a very important factor for a hiring decision whereas for the majority of the respondents it is only somewhat important. Even though contribution to open source may not have a major impact on hiring decision, it has an impact on career and salary satisfaction: those that contribute to open source tend to be more satisfied with their career and to earn more."
   ]
  },
  {
   "cell_type": "code",
   "execution_count": null,
   "id": "95b5547c",
   "metadata": {},
   "outputs": [],
   "source": []
  }
 ],
 "metadata": {
  "kernelspec": {
   "display_name": "Python 3 (ipykernel)",
   "language": "python",
   "name": "python3"
  },
  "language_info": {
   "codemirror_mode": {
    "name": "ipython",
    "version": 3
   },
   "file_extension": ".py",
   "mimetype": "text/x-python",
   "name": "python",
   "nbconvert_exporter": "python",
   "pygments_lexer": "ipython3",
   "version": "3.9.12"
  }
 },
 "nbformat": 4,
 "nbformat_minor": 5
}
